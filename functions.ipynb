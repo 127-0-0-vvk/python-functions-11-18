{
  "nbformat": 4,
  "nbformat_minor": 0,
  "metadata": {
    "colab": {
      "provenance": [],
      "machine_shape": "hm",
      "authorship_tag": "ABX9TyP/Zfv4NYwYTxDAn0tFAb1h",
      "include_colab_link": true
    },
    "kernelspec": {
      "name": "python3",
      "display_name": "Python 3"
    },
    "language_info": {
      "name": "python"
    },
    "gpuClass": "standard"
  },
  "cells": [
    {
      "cell_type": "markdown",
      "metadata": {
        "id": "view-in-github",
        "colab_type": "text"
      },
      "source": [
        "<a href=\"https://colab.research.google.com/github/127-0-0-vvk/python-functions-11-18/blob/main/functions.ipynb\" target=\"_parent\"><img src=\"https://colab.research.google.com/assets/colab-badge.svg\" alt=\"Open In Colab\"/></a>"
      ]
    },
    {
      "cell_type": "markdown",
      "source": [
        "## Getting Started with functions"
      ],
      "metadata": {
        "id": "3lyT0AAoEg6Q"
      }
    },
    {
      "cell_type": "code",
      "execution_count": 1,
      "metadata": {
        "id": "8s1ZLrYvEepe"
      },
      "outputs": [],
      "source": [
        "var = 1"
      ]
    },
    {
      "cell_type": "code",
      "source": [
        "def simple_function(): pass"
      ],
      "metadata": {
        "id": "3LzxyaxnEnOu"
      },
      "execution_count": 2,
      "outputs": []
    },
    {
      "cell_type": "code",
      "source": [
        "def simple_function2():\n",
        "    return 1"
      ],
      "metadata": {
        "id": "I6D0nmZtE22a"
      },
      "execution_count": 3,
      "outputs": []
    },
    {
      "cell_type": "code",
      "source": [
        "simple_function2()"
      ],
      "metadata": {
        "colab": {
          "base_uri": "https://localhost:8080/"
        },
        "id": "z_nLXJm1E825",
        "outputId": "03949ed4-47cc-49b4-ba38-571c945133aa"
      },
      "execution_count": 6,
      "outputs": [
        {
          "output_type": "execute_result",
          "data": {
            "text/plain": [
              "1"
            ]
          },
          "metadata": {},
          "execution_count": 6
        }
      ]
    },
    {
      "cell_type": "markdown",
      "source": [
        "Put thins into the function"
      ],
      "metadata": {
        "id": "Vsw2MQYoGKZy"
      }
    },
    {
      "cell_type": "code",
      "source": [
        "def add(x,y):\n",
        "    return x+y"
      ],
      "metadata": {
        "id": "CXiqeaJXE_pN"
      },
      "execution_count": 7,
      "outputs": []
    },
    {
      "cell_type": "code",
      "source": [
        "add(8,1)"
      ],
      "metadata": {
        "colab": {
          "base_uri": "https://localhost:8080/"
        },
        "id": "A86SzpL0GSk4",
        "outputId": "ff3d9239-afbe-4b9f-a8d7-f9a09fce7e0f"
      },
      "execution_count": 9,
      "outputs": [
        {
          "output_type": "execute_result",
          "data": {
            "text/plain": [
              "9"
            ]
          },
          "metadata": {},
          "execution_count": 9
        }
      ]
    },
    {
      "cell_type": "code",
      "source": [
        "foods = [\"apple\", \"bread\", \"pizza\"]"
      ],
      "metadata": {
        "id": "1Wc7458MG3Qy"
      },
      "execution_count": 10,
      "outputs": []
    },
    {
      "cell_type": "code",
      "source": [
        "def complicated_function(my_food):\n",
        "    total= len(my_food)\n",
        "    print(f\"i am very hungry and i am ready to eat: {total} foods!\")\n",
        "    for food in my_food:\n",
        "        print(f\"i love to wake and eat: {food}\")"
      ],
      "metadata": {
        "id": "qASqBPrJGUGf"
      },
      "execution_count": 11,
      "outputs": []
    },
    {
      "cell_type": "code",
      "source": [
        "complicated_function(foods)"
      ],
      "metadata": {
        "colab": {
          "base_uri": "https://localhost:8080/"
        },
        "id": "w2tFFhfjIJI3",
        "outputId": "1bce795a-21f9-4d01-a853-63de65c7989f"
      },
      "execution_count": 12,
      "outputs": [
        {
          "output_type": "stream",
          "name": "stdout",
          "text": [
            "i am very hungry and i am ready to eat: 3 foods!\n",
            "i love to wake and eat: apple\n",
            "i love to wake and eat: bread\n",
            "i love to wake and eat: pizza\n"
          ]
        }
      ]
    },
    {
      "cell_type": "code",
      "source": [
        "complicated_function([\"steak\", \"ham\", \"bacon\"])"
      ],
      "metadata": {
        "colab": {
          "base_uri": "https://localhost:8080/"
        },
        "id": "S-TWT4e_IO32",
        "outputId": "b4716f28-c14d-4db0-ae16-f5f739e1565b"
      },
      "execution_count": 13,
      "outputs": [
        {
          "output_type": "stream",
          "name": "stdout",
          "text": [
            "i am very hungry and i am ready to eat: 3 foods!\n",
            "i love to wake and eat: steak\n",
            "i love to wake and eat: ham\n",
            "i love to wake and eat: bacon\n"
          ]
        }
      ]
    },
    {
      "cell_type": "markdown",
      "source": [
        "## Exotic Items with python functions"
      ],
      "metadata": {
        "id": "UsN_w97RVJua"
      }
    },
    {
      "cell_type": "code",
      "source": [
        "#nonlocal cannot modify this variable\n",
        "#lower_body_counter=5\n",
        "def attack_counter():\n",
        "    \"\"\"Counts number of attacks on part of body\"\"\"\n",
        "    lower_body_counter = 0\n",
        "    upper_body_counter = 0\n",
        "    #print(lower_body_counter)\n",
        "    def attack_filter(attack):\n",
        "        nonlocal lower_body_counter\n",
        "        nonlocal upper_body_counter\n",
        "        attacks = {\"kimura\": \"upper_body\",\n",
        "           \"straight_ankle_lock\":\"lower_body\", \n",
        "           \"arm_triangle\":\"upper_body\",\n",
        "            \"keylock\": \"upper_body\",\n",
        "            \"knee_bar\": \"lower_body\"}\n",
        "        if attack in attacks:\n",
        "            if attacks[attack] == \"upper_body\":\n",
        "                upper_body_counter +=1\n",
        "            if attacks[attack] == \"lower_body\":\n",
        "                lower_body_counter +=1\n",
        "        print(f\"Upper Body Attacks {upper_body_counter}, Lower Body Attacks {lower_body_counter}\")\n",
        "    return attack_filter"
      ],
      "metadata": {
        "id": "Y2MQsTwFItOn"
      },
      "execution_count": 14,
      "outputs": []
    },
    {
      "cell_type": "code",
      "source": [
        "fight = attack_counter()\n",
        "type(fight)"
      ],
      "metadata": {
        "colab": {
          "base_uri": "https://localhost:8080/"
        },
        "id": "TEd5Gk0uWHhe",
        "outputId": "81396858-67da-4186-cb6e-bf18627b993b"
      },
      "execution_count": 15,
      "outputs": [
        {
          "output_type": "execute_result",
          "data": {
            "text/plain": [
              "function"
            ]
          },
          "metadata": {},
          "execution_count": 15
        }
      ]
    },
    {
      "cell_type": "code",
      "source": [
        "fight(\"kimura\")"
      ],
      "metadata": {
        "colab": {
          "base_uri": "https://localhost:8080/"
        },
        "id": "8vcCk9SQWHCl",
        "outputId": "934391d3-6384-4746-a9a2-3b221cb31668"
      },
      "execution_count": 18,
      "outputs": [
        {
          "output_type": "stream",
          "name": "stdout",
          "text": [
            "Upper Body Attacks 2, Lower Body Attacks 0\n"
          ]
        }
      ]
    },
    {
      "cell_type": "markdown",
      "source": [
        "Partial Function"
      ],
      "metadata": {
        "id": "fmY897DAW4wW"
      }
    },
    {
      "cell_type": "code",
      "source": [
        "from functools import partial\n",
        "\n",
        "def multiple_attacks(attack_one, attack_two):\n",
        "  \"\"\"Performs two attacks\"\"\"\n",
        "  \n",
        "  print(f\"First Attack {attack_one}\")\n",
        "  print(f\"Second Attack {attack_two}\")\n",
        "  \n",
        "attack_this = partial(multiple_attacks, \"kimura\")\n",
        "type(attack_this)"
      ],
      "metadata": {
        "colab": {
          "base_uri": "https://localhost:8080/"
        },
        "id": "ihvDigxhWPF5",
        "outputId": "fd1c91c2-c8c3-42f7-febd-9aa47374ad6b"
      },
      "execution_count": 19,
      "outputs": [
        {
          "output_type": "execute_result",
          "data": {
            "text/plain": [
              "functools.partial"
            ]
          },
          "metadata": {},
          "execution_count": 19
        }
      ]
    },
    {
      "cell_type": "code",
      "source": [
        "attack_this = partial(multiple_attacks, \"kimura\")"
      ],
      "metadata": {
        "id": "epyPRRB4XGcF"
      },
      "execution_count": 20,
      "outputs": []
    },
    {
      "cell_type": "code",
      "source": [
        "attack_this(\"arm_bar\")"
      ],
      "metadata": {
        "colab": {
          "base_uri": "https://localhost:8080/"
        },
        "id": "BrBHnKoPXV7e",
        "outputId": "36bbd454-d71b-49e2-f370-da1e31f0cd33"
      },
      "execution_count": 21,
      "outputs": [
        {
          "output_type": "stream",
          "name": "stdout",
          "text": [
            "First Attack kimura\n",
            "Second Attack arm_bar\n"
          ]
        }
      ]
    },
    {
      "cell_type": "markdown",
      "source": [
        "Lazy Evaluation"
      ],
      "metadata": {
        "id": "xLty3aFlXjFX"
      }
    },
    {
      "cell_type": "code",
      "source": [
        "huge_list = [1,100,10000]"
      ],
      "metadata": {
        "id": "r7gTY05JXY1n"
      },
      "execution_count": 1,
      "outputs": []
    },
    {
      "cell_type": "code",
      "source": [
        "def process():\n",
        "    for num in huge_list:\n",
        "        yield num"
      ],
      "metadata": {
        "id": "MwFKw-8fXrVJ"
      },
      "execution_count": 2,
      "outputs": []
    },
    {
      "cell_type": "code",
      "source": [
        "result = process()"
      ],
      "metadata": {
        "id": "8M2XN3HmXzH1"
      },
      "execution_count": 7,
      "outputs": []
    },
    {
      "cell_type": "code",
      "source": [
        "type(result)"
      ],
      "metadata": {
        "colab": {
          "base_uri": "https://localhost:8080/"
        },
        "id": "eelqAediX7uq",
        "outputId": "7c661b8e-6128-4049-b9bc-5e9770959496"
      },
      "execution_count": 8,
      "outputs": [
        {
          "output_type": "execute_result",
          "data": {
            "text/plain": [
              "generator"
            ]
          },
          "metadata": {},
          "execution_count": 8
        }
      ]
    },
    {
      "cell_type": "code",
      "source": [
        "for _ in range(2):\n",
        "    print(next(result))"
      ],
      "metadata": {
        "colab": {
          "base_uri": "https://localhost:8080/"
        },
        "id": "IISAF2QTX8pj",
        "outputId": "69b47405-5ce5-4457-acf9-405823144e51"
      },
      "execution_count": 9,
      "outputs": [
        {
          "output_type": "stream",
          "name": "stdout",
          "text": [
            "1\n",
            "100\n"
          ]
        }
      ]
    },
    {
      "cell_type": "code",
      "source": [
        "def lazy_return_random_attacks():\n",
        "    \"\"\"Yield attacks each time\"\"\"\n",
        "    \n",
        "    import random\n",
        "    attacks = {\"kimura\": \"upper_body\",\n",
        "           \"straight_ankle_lock\":\"lower_body\", \n",
        "           \"arm_triangle\":\"upper_body\",\n",
        "            \"keylock\": \"upper_body\",\n",
        "            \"knee_bar\": \"lower_body\"}\n",
        "    while True:\n",
        "        random_attack = random.choices(list(attacks.keys()))\n",
        "        yield random_attack"
      ],
      "metadata": {
        "id": "ptWKUPIRYsqg"
      },
      "execution_count": 10,
      "outputs": []
    },
    {
      "cell_type": "code",
      "source": [
        "attack = lazy_return_random_attacks()\n"
      ],
      "metadata": {
        "id": "D81gsAGz4aCj"
      },
      "execution_count": 12,
      "outputs": []
    },
    {
      "cell_type": "code",
      "source": [
        "for _ in range(3):\n",
        "    print(next(attack))"
      ],
      "metadata": {
        "colab": {
          "base_uri": "https://localhost:8080/"
        },
        "id": "7QUvspJi4d7k",
        "outputId": "d83c4376-a49f-4c1e-b20f-d30a1da294d3"
      },
      "execution_count": 14,
      "outputs": [
        {
          "output_type": "stream",
          "name": "stdout",
          "text": [
            "['arm_triangle']\n",
            "['arm_triangle']\n",
            "['arm_triangle']\n"
          ]
        }
      ]
    },
    {
      "cell_type": "code",
      "source": [],
      "metadata": {
        "id": "DLBCHk8C4lw4"
      },
      "execution_count": 14,
      "outputs": []
    }
  ]
}