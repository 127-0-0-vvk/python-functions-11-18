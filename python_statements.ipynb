{
  "nbformat": 4,
  "nbformat_minor": 0,
  "metadata": {
    "colab": {
      "provenance": [],
      "collapsed_sections": [
        "4WCk0FXcvNIH"
      ],
      "machine_shape": "hm",
      "authorship_tag": "ABX9TyNNkL1a6ZAlRG1sz1N1yISE",
      "include_colab_link": true
    },
    "kernelspec": {
      "name": "python3",
      "display_name": "Python 3"
    },
    "language_info": {
      "name": "python"
    },
    "accelerator": "GPU",
    "gpuClass": "standard"
  },
  "cells": [
    {
      "cell_type": "markdown",
      "metadata": {
        "id": "view-in-github",
        "colab_type": "text"
      },
      "source": [
        "<a href=\"https://colab.research.google.com/github/127-0-0-vvk/python-functions-11-18/blob/main/python_statements.ipynb\" target=\"_parent\"><img src=\"https://colab.research.google.com/assets/colab-badge.svg\" alt=\"Open In Colab\"/></a>"
      ]
    },
    {
      "cell_type": "markdown",
      "source": [
        "## Introduction of Statements\n"
      ],
      "metadata": {
        "id": "4WCk0FXcvNIH"
      }
    },
    {
      "cell_type": "code",
      "execution_count": 1,
      "metadata": {
        "colab": {
          "base_uri": "https://localhost:8080/"
        },
        "id": "9ZlDGdL_vB_F",
        "outputId": "fc984f97-fe88-4dd3-bd91-9177166a7802"
      },
      "outputs": [
        {
          "output_type": "stream",
          "name": "stdout",
          "text": [
            "hello world\n"
          ]
        }
      ],
      "source": [
        "print(\"hello world\")"
      ]
    },
    {
      "cell_type": "markdown",
      "source": [
        "### Defining Variables"
      ],
      "metadata": {
        "id": "2okZOiZcviR-"
      }
    },
    {
      "cell_type": "code",
      "source": [
        "x = 1\n",
        "x"
      ],
      "metadata": {
        "colab": {
          "base_uri": "https://localhost:8080/"
        },
        "id": "q-su6AjlvkCj",
        "outputId": "7a6f5b7b-4a4a-45ed-c9e5-bbff7f0b0626"
      },
      "execution_count": 1,
      "outputs": [
        {
          "output_type": "execute_result",
          "data": {
            "text/plain": [
              "1"
            ]
          },
          "metadata": {},
          "execution_count": 1
        }
      ]
    },
    {
      "cell_type": "markdown",
      "source": [
        "### More interesting fats about statements"
      ],
      "metadata": {
        "id": "EVLP5Rqqv2X1"
      }
    },
    {
      "cell_type": "code",
      "source": [
        "var = 1\n",
        "var2 = 2\n",
        "var + var2"
      ],
      "metadata": {
        "colab": {
          "base_uri": "https://localhost:8080/"
        },
        "id": "IoodJgyavmVq",
        "outputId": "8d2a7b03-a305-4e7f-c80c-5cd1613ba6c8"
      },
      "execution_count": 2,
      "outputs": [
        {
          "output_type": "execute_result",
          "data": {
            "text/plain": [
              "3"
            ]
          },
          "metadata": {},
          "execution_count": 2
        }
      ]
    },
    {
      "cell_type": "code",
      "source": [],
      "metadata": {
        "id": "LISfKl-Rv8R6"
      },
      "execution_count": null,
      "outputs": []
    },
    {
      "cell_type": "markdown",
      "source": [
        "##Loops"
      ],
      "metadata": {
        "id": "dYi9XKaZzORf"
      }
    },
    {
      "cell_type": "code",
      "source": [
        "for i in range(10):\n",
        "    print(f\"This is the loops number: {i}\")"
      ],
      "metadata": {
        "colab": {
          "base_uri": "https://localhost:8080/"
        },
        "id": "RyZazJFDzQqP",
        "outputId": "76299f94-36ad-4b18-8402-5afd8c75b159"
      },
      "execution_count": 3,
      "outputs": [
        {
          "output_type": "stream",
          "name": "stdout",
          "text": [
            "This is the loops number: 0\n",
            "This is the loops number: 1\n",
            "This is the loops number: 2\n",
            "This is the loops number: 3\n",
            "This is the loops number: 4\n",
            "This is the loops number: 5\n",
            "This is the loops number: 6\n",
            "This is the loops number: 7\n",
            "This is the loops number: 8\n",
            "This is the loops number: 9\n"
          ]
        }
      ]
    },
    {
      "cell_type": "markdown",
      "source": [
        "### List"
      ],
      "metadata": {
        "id": "ehlrZz6RzvV_"
      }
    },
    {
      "cell_type": "code",
      "source": [
        "my_basket = [\"apple\", \"carrot\", \"bread\", \"icecream\"]\n",
        "len(my_basket)"
      ],
      "metadata": {
        "colab": {
          "base_uri": "https://localhost:8080/"
        },
        "id": "26h8qUYNzkPi",
        "outputId": "ba12e05c-8809-472c-ec49-7f21bc82f223"
      },
      "execution_count": 8,
      "outputs": [
        {
          "output_type": "execute_result",
          "data": {
            "text/plain": [
              "4"
            ]
          },
          "metadata": {},
          "execution_count": 8
        }
      ]
    },
    {
      "cell_type": "code",
      "source": [
        "\n",
        "for food in my_basket:\n",
        "    print(f\"i am hungry and iam going to eat: {food}\")"
      ],
      "metadata": {
        "colab": {
          "base_uri": "https://localhost:8080/"
        },
        "id": "PFY39yKFz-xZ",
        "outputId": "9374a1e9-aee3-4f9a-fde7-b9fde608d4a6"
      },
      "execution_count": 9,
      "outputs": [
        {
          "output_type": "stream",
          "name": "stdout",
          "text": [
            "i am hungry and iam going to eat: apple\n",
            "i am hungry and iam going to eat: carrot\n",
            "i am hungry and iam going to eat: bread\n",
            "i am hungry and iam going to eat: icecream\n"
          ]
        }
      ]
    },
    {
      "cell_type": "code",
      "source": [],
      "metadata": {
        "id": "2O5Z1al60b3D"
      },
      "execution_count": null,
      "outputs": []
    }
  ]
}