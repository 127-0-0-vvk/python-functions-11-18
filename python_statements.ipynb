{
  "nbformat": 4,
  "nbformat_minor": 0,
  "metadata": {
    "colab": {
      "provenance": [],
      "collapsed_sections": [
        "4WCk0FXcvNIH"
      ],
      "machine_shape": "hm",
      "authorship_tag": "ABX9TyN4EcUqhUWxfY7yle0gA1dr",
      "include_colab_link": true
    },
    "kernelspec": {
      "name": "python3",
      "display_name": "Python 3"
    },
    "language_info": {
      "name": "python"
    },
    "accelerator": "GPU",
    "gpuClass": "standard"
  },
  "cells": [
    {
      "cell_type": "markdown",
      "metadata": {
        "id": "view-in-github",
        "colab_type": "text"
      },
      "source": [
        "<a href=\"https://colab.research.google.com/github/127-0-0-vvk/python-functions-11-18/blob/main/python_statements.ipynb\" target=\"_parent\"><img src=\"https://colab.research.google.com/assets/colab-badge.svg\" alt=\"Open In Colab\"/></a>"
      ]
    },
    {
      "cell_type": "markdown",
      "source": [
        "## Introduction of Statements\n"
      ],
      "metadata": {
        "id": "4WCk0FXcvNIH"
      }
    },
    {
      "cell_type": "code",
      "execution_count": 1,
      "metadata": {
        "colab": {
          "base_uri": "https://localhost:8080/"
        },
        "id": "9ZlDGdL_vB_F",
        "outputId": "fc984f97-fe88-4dd3-bd91-9177166a7802"
      },
      "outputs": [
        {
          "output_type": "stream",
          "name": "stdout",
          "text": [
            "hello world\n"
          ]
        }
      ],
      "source": [
        "print(\"hello world\")"
      ]
    },
    {
      "cell_type": "markdown",
      "source": [
        "### Defining Variables"
      ],
      "metadata": {
        "id": "2okZOiZcviR-"
      }
    },
    {
      "cell_type": "code",
      "source": [
        "x = 1\n",
        "x"
      ],
      "metadata": {
        "colab": {
          "base_uri": "https://localhost:8080/"
        },
        "id": "q-su6AjlvkCj",
        "outputId": "7a6f5b7b-4a4a-45ed-c9e5-bbff7f0b0626"
      },
      "execution_count": 1,
      "outputs": [
        {
          "output_type": "execute_result",
          "data": {
            "text/plain": [
              "1"
            ]
          },
          "metadata": {},
          "execution_count": 1
        }
      ]
    },
    {
      "cell_type": "markdown",
      "source": [
        "### More interesting fats about statements"
      ],
      "metadata": {
        "id": "EVLP5Rqqv2X1"
      }
    },
    {
      "cell_type": "code",
      "source": [
        "var = 1\n",
        "var2 = 2\n",
        "var + var2"
      ],
      "metadata": {
        "colab": {
          "base_uri": "https://localhost:8080/"
        },
        "id": "IoodJgyavmVq",
        "outputId": "8d2a7b03-a305-4e7f-c80c-5cd1613ba6c8"
      },
      "execution_count": 2,
      "outputs": [
        {
          "output_type": "execute_result",
          "data": {
            "text/plain": [
              "3"
            ]
          },
          "metadata": {},
          "execution_count": 2
        }
      ]
    },
    {
      "cell_type": "code",
      "source": [],
      "metadata": {
        "id": "LISfKl-Rv8R6"
      },
      "execution_count": null,
      "outputs": []
    },
    {
      "cell_type": "markdown",
      "source": [
        "##Loops"
      ],
      "metadata": {
        "id": "dYi9XKaZzORf"
      }
    },
    {
      "cell_type": "code",
      "source": [
        "for i in range(10):\n",
        "    print(f\"This is the loops number: {i}\")"
      ],
      "metadata": {
        "colab": {
          "base_uri": "https://localhost:8080/"
        },
        "id": "RyZazJFDzQqP",
        "outputId": "76299f94-36ad-4b18-8402-5afd8c75b159"
      },
      "execution_count": 3,
      "outputs": [
        {
          "output_type": "stream",
          "name": "stdout",
          "text": [
            "This is the loops number: 0\n",
            "This is the loops number: 1\n",
            "This is the loops number: 2\n",
            "This is the loops number: 3\n",
            "This is the loops number: 4\n",
            "This is the loops number: 5\n",
            "This is the loops number: 6\n",
            "This is the loops number: 7\n",
            "This is the loops number: 8\n",
            "This is the loops number: 9\n"
          ]
        }
      ]
    },
    {
      "cell_type": "markdown",
      "source": [
        "### List"
      ],
      "metadata": {
        "id": "ehlrZz6RzvV_"
      }
    },
    {
      "cell_type": "code",
      "source": [
        "my_basket = [\"apple\", \"carrot\", \"bread\", \"icecream\"]\n",
        "len(my_basket)"
      ],
      "metadata": {
        "colab": {
          "base_uri": "https://localhost:8080/"
        },
        "id": "26h8qUYNzkPi",
        "outputId": "ba12e05c-8809-472c-ec49-7f21bc82f223"
      },
      "execution_count": 8,
      "outputs": [
        {
          "output_type": "execute_result",
          "data": {
            "text/plain": [
              "4"
            ]
          },
          "metadata": {},
          "execution_count": 8
        }
      ]
    },
    {
      "cell_type": "code",
      "source": [
        "\n",
        "for food in my_basket:\n",
        "    print(f\"i am hungry and iam going to eat: {food}\")"
      ],
      "metadata": {
        "colab": {
          "base_uri": "https://localhost:8080/"
        },
        "id": "PFY39yKFz-xZ",
        "outputId": "9374a1e9-aee3-4f9a-fde7-b9fde608d4a6"
      },
      "execution_count": 9,
      "outputs": [
        {
          "output_type": "stream",
          "name": "stdout",
          "text": [
            "i am hungry and iam going to eat: apple\n",
            "i am hungry and iam going to eat: carrot\n",
            "i am hungry and iam going to eat: bread\n",
            "i am hungry and iam going to eat: icecream\n"
          ]
        }
      ]
    },
    {
      "cell_type": "markdown",
      "source": [
        "### Dictionary"
      ],
      "metadata": {
        "id": "-wgQ5w2W94pB"
      }
    },
    {
      "cell_type": "code",
      "source": [
        "my_dict =  {\"one\": \"apple\", \"two\": \"eggs\", \"three\": \"bread\"}\n",
        "len(my_dict)"
      ],
      "metadata": {
        "colab": {
          "base_uri": "https://localhost:8080/"
        },
        "id": "2O5Z1al60b3D",
        "outputId": "58db4125-a631-4efb-bcc9-3e85e54a865d"
      },
      "execution_count": 10,
      "outputs": [
        {
          "output_type": "execute_result",
          "data": {
            "text/plain": [
              "3"
            ]
          },
          "metadata": {},
          "execution_count": 10
        }
      ]
    },
    {
      "cell_type": "code",
      "source": [
        "my_dict.values()"
      ],
      "metadata": {
        "colab": {
          "base_uri": "https://localhost:8080/"
        },
        "id": "QG03gtn4-Lgv",
        "outputId": "c5652b16-7b6a-489e-cb88-83f7f565b24e"
      },
      "execution_count": 12,
      "outputs": [
        {
          "output_type": "execute_result",
          "data": {
            "text/plain": [
              "dict_values(['apple', 'eggs', 'bread'])"
            ]
          },
          "metadata": {},
          "execution_count": 12
        }
      ]
    },
    {
      "cell_type": "markdown",
      "source": [
        "0(1) Lookup"
      ],
      "metadata": {
        "id": "lcSJ8lzS-tb_"
      }
    },
    {
      "cell_type": "code",
      "source": [
        "\"one\" in my_dict"
      ],
      "metadata": {
        "colab": {
          "base_uri": "https://localhost:8080/"
        },
        "id": "NzcNjcKI-RVz",
        "outputId": "963ed3dd-b596-46b6-f00b-d70369e619db"
      },
      "execution_count": 13,
      "outputs": [
        {
          "output_type": "execute_result",
          "data": {
            "text/plain": [
              "True"
            ]
          },
          "metadata": {},
          "execution_count": 13
        }
      ]
    },
    {
      "cell_type": "markdown",
      "source": [
        "### Looping with dictionary"
      ],
      "metadata": {
        "id": "Q9GbHFAe-_rD"
      }
    },
    {
      "cell_type": "code",
      "source": [
        "for number, food in my_dict.items():\n",
        "    print(f\"This is {number}: this is food {food}\")"
      ],
      "metadata": {
        "colab": {
          "base_uri": "https://localhost:8080/"
        },
        "id": "t-bhZeBi-02u",
        "outputId": "6277b566-a274-4d83-b5e8-f8ab093d2a6c"
      },
      "execution_count": 16,
      "outputs": [
        {
          "output_type": "stream",
          "name": "stdout",
          "text": [
            "This is one: this is food apple\n",
            "This is two: this is food eggs\n",
            "This is three: this is food bread\n"
          ]
        }
      ]
    },
    {
      "cell_type": "markdown",
      "source": [
        "## Math Statements"
      ],
      "metadata": {
        "id": "HowD3iTwADHd"
      }
    },
    {
      "cell_type": "markdown",
      "source": [
        "Use Python as a calculator to learn it"
      ],
      "metadata": {
        "id": "fKvOC2LtAFvD"
      }
    },
    {
      "cell_type": "code",
      "source": [
        "1+1"
      ],
      "metadata": {
        "colab": {
          "base_uri": "https://localhost:8080/"
        },
        "id": "2gREd-YZ_QP0",
        "outputId": "9f89107f-af83-4ccf-9d82-2d9d1c797e46"
      },
      "execution_count": 17,
      "outputs": [
        {
          "output_type": "execute_result",
          "data": {
            "text/plain": [
              "2"
            ]
          },
          "metadata": {},
          "execution_count": 17
        }
      ]
    },
    {
      "cell_type": "code",
      "source": [
        "165 * .20"
      ],
      "metadata": {
        "colab": {
          "base_uri": "https://localhost:8080/"
        },
        "id": "RVVCzRe4AUDK",
        "outputId": "8a6dfa68-c711-4be0-fa4e-3b82a158d5f5"
      },
      "execution_count": 19,
      "outputs": [
        {
          "output_type": "execute_result",
          "data": {
            "text/plain": [
              "33.0"
            ]
          },
          "metadata": {},
          "execution_count": 19
        }
      ]
    },
    {
      "cell_type": "markdown",
      "source": [
        "Real-world Math problem"
      ],
      "metadata": {
        "id": "CUVmySuHAplB"
      }
    },
    {
      "cell_type": "code",
      "source": [
        "expenses = [5, 90, 200, 2000]"
      ],
      "metadata": {
        "id": "YKi-XaSJAVy6"
      },
      "execution_count": 20,
      "outputs": []
    },
    {
      "cell_type": "code",
      "source": [
        "total = 0\n",
        "for expense in expenses:\n",
        "    total += expense\n",
        "    print(f\"Adding the following expenses: EXPENSE {expense}, TOTAL {total}\") "
      ],
      "metadata": {
        "colab": {
          "base_uri": "https://localhost:8080/"
        },
        "id": "0x-rbN08AxV1",
        "outputId": "542717f5-a562-42b8-ceae-e27e5b0d9748"
      },
      "execution_count": 22,
      "outputs": [
        {
          "output_type": "stream",
          "name": "stdout",
          "text": [
            "Adding the following expenses: EXPENSE 5, TOTAL 5\n",
            "Adding the following expenses: EXPENSE 90, TOTAL 95\n",
            "Adding the following expenses: EXPENSE 200, TOTAL 295\n",
            "Adding the following expenses: EXPENSE 2000, TOTAL 2295\n"
          ]
        }
      ]
    },
    {
      "cell_type": "code",
      "source": [],
      "metadata": {
        "id": "sv1E9PsMBRAs"
      },
      "execution_count": null,
      "outputs": []
    }
  ]
}