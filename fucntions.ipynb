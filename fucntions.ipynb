{
  "nbformat": 4,
  "nbformat_minor": 0,
  "metadata": {
    "colab": {
      "provenance": [],
      "machine_shape": "hm",
      "authorship_tag": "ABX9TyM9HLwS4VAlPA0zlwp/6877",
      "include_colab_link": true
    },
    "kernelspec": {
      "name": "python3",
      "display_name": "Python 3"
    },
    "language_info": {
      "name": "python"
    },
    "accelerator": "GPU",
    "gpuClass": "standard"
  },
  "cells": [
    {
      "cell_type": "markdown",
      "metadata": {
        "id": "view-in-github",
        "colab_type": "text"
      },
      "source": [
        "<a href=\"https://colab.research.google.com/github/127-0-0-vvk/python-functions-11-18/blob/main/fucntions.ipynb\" target=\"_parent\"><img src=\"https://colab.research.google.com/assets/colab-badge.svg\" alt=\"Open In Colab\"/></a>"
      ]
    },
    {
      "cell_type": "markdown",
      "source": [
        "## Getting Started wuth functions"
      ],
      "metadata": {
        "id": "3lyT0AAoEg6Q"
      }
    },
    {
      "cell_type": "code",
      "execution_count": 1,
      "metadata": {
        "id": "8s1ZLrYvEepe"
      },
      "outputs": [],
      "source": [
        "var = 1"
      ]
    },
    {
      "cell_type": "code",
      "source": [
        "def simple_function(): pass"
      ],
      "metadata": {
        "id": "3LzxyaxnEnOu"
      },
      "execution_count": 2,
      "outputs": []
    },
    {
      "cell_type": "code",
      "source": [
        "def simple_function2():\n",
        "    return 1"
      ],
      "metadata": {
        "id": "I6D0nmZtE22a"
      },
      "execution_count": 3,
      "outputs": []
    },
    {
      "cell_type": "code",
      "source": [
        "simple_function2()"
      ],
      "metadata": {
        "colab": {
          "base_uri": "https://localhost:8080/"
        },
        "id": "z_nLXJm1E825",
        "outputId": "03949ed4-47cc-49b4-ba38-571c945133aa"
      },
      "execution_count": 6,
      "outputs": [
        {
          "output_type": "execute_result",
          "data": {
            "text/plain": [
              "1"
            ]
          },
          "metadata": {},
          "execution_count": 6
        }
      ]
    },
    {
      "cell_type": "markdown",
      "source": [
        "Put thins into the function"
      ],
      "metadata": {
        "id": "Vsw2MQYoGKZy"
      }
    },
    {
      "cell_type": "code",
      "source": [
        "def add(x,y):\n",
        "    return x+y"
      ],
      "metadata": {
        "id": "CXiqeaJXE_pN"
      },
      "execution_count": 7,
      "outputs": []
    },
    {
      "cell_type": "code",
      "source": [
        "add(8,1)"
      ],
      "metadata": {
        "colab": {
          "base_uri": "https://localhost:8080/"
        },
        "id": "A86SzpL0GSk4",
        "outputId": "ff3d9239-afbe-4b9f-a8d7-f9a09fce7e0f"
      },
      "execution_count": 9,
      "outputs": [
        {
          "output_type": "execute_result",
          "data": {
            "text/plain": [
              "9"
            ]
          },
          "metadata": {},
          "execution_count": 9
        }
      ]
    },
    {
      "cell_type": "code",
      "source": [
        "foods = [\"apple\", \"bread\", \"pizza\"]"
      ],
      "metadata": {
        "id": "1Wc7458MG3Qy"
      },
      "execution_count": 10,
      "outputs": []
    },
    {
      "cell_type": "code",
      "source": [
        "def complicated_function(my_food):\n",
        "    total= len(my_food)\n",
        "    print(f\"i am very hungry and i am ready to eat: {total} foods!\")\n",
        "    for food in my_food:\n",
        "        print(f\"i love to wake and eat: {food}\")"
      ],
      "metadata": {
        "id": "qASqBPrJGUGf"
      },
      "execution_count": 11,
      "outputs": []
    },
    {
      "cell_type": "code",
      "source": [
        "complicated_function(foods)"
      ],
      "metadata": {
        "colab": {
          "base_uri": "https://localhost:8080/"
        },
        "id": "w2tFFhfjIJI3",
        "outputId": "1bce795a-21f9-4d01-a853-63de65c7989f"
      },
      "execution_count": 12,
      "outputs": [
        {
          "output_type": "stream",
          "name": "stdout",
          "text": [
            "i am very hungry and i am ready to eat: 3 foods!\n",
            "i love to wake and eat: apple\n",
            "i love to wake and eat: bread\n",
            "i love to wake and eat: pizza\n"
          ]
        }
      ]
    },
    {
      "cell_type": "code",
      "source": [
        "complicated_function([\"steak\", \"ham\", \"bacon\"])"
      ],
      "metadata": {
        "colab": {
          "base_uri": "https://localhost:8080/"
        },
        "id": "S-TWT4e_IO32",
        "outputId": "b4716f28-c14d-4db0-ae16-f5f739e1565b"
      },
      "execution_count": 13,
      "outputs": [
        {
          "output_type": "stream",
          "name": "stdout",
          "text": [
            "i am very hungry and i am ready to eat: 3 foods!\n",
            "i love to wake and eat: steak\n",
            "i love to wake and eat: ham\n",
            "i love to wake and eat: bacon\n"
          ]
        }
      ]
    },
    {
      "cell_type": "code",
      "source": [],
      "metadata": {
        "id": "Y2MQsTwFItOn"
      },
      "execution_count": null,
      "outputs": []
    }
  ]
}